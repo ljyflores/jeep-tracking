{
 "cells": [
  {
   "cell_type": "code",
   "execution_count": 3,
   "metadata": {},
   "outputs": [],
   "source": [
    "import pandas as pd\n",
    "\n",
    "from google.cloud import bigquery\n",
    "from utils import query_latest_etas\n",
    "\n",
    "# Specify the project folder to establish a client\n",
    "client = bigquery.Client(project=\"eco-folder-402813\")"
   ]
  },
  {
   "cell_type": "code",
   "execution_count": 2,
   "metadata": {},
   "outputs": [],
   "source": [
    "# Run the query to get the latest ETAs per stop\n",
    "output = query_latest_etas(client)"
   ]
  },
  {
   "cell_type": "code",
   "execution_count": 4,
   "metadata": {},
   "outputs": [
    {
     "data": {
      "text/html": [
       "<div>\n",
       "<style scoped>\n",
       "    .dataframe tbody tr th:only-of-type {\n",
       "        vertical-align: middle;\n",
       "    }\n",
       "\n",
       "    .dataframe tbody tr th {\n",
       "        vertical-align: top;\n",
       "    }\n",
       "\n",
       "    .dataframe thead th {\n",
       "        text-align: right;\n",
       "    }\n",
       "</style>\n",
       "<table border=\"1\" class=\"dataframe\">\n",
       "  <thead>\n",
       "    <tr style=\"text-align: right;\">\n",
       "      <th></th>\n",
       "      <th>stop_id</th>\n",
       "      <th>jeep_ids_list</th>\n",
       "      <th>jeep_locations_list</th>\n",
       "      <th>jeep_arrival_times_list</th>\n",
       "      <th>jeep_plate_num_list</th>\n",
       "      <th>insertion_time</th>\n",
       "    </tr>\n",
       "  </thead>\n",
       "  <tbody>\n",
       "    <tr>\n",
       "      <th>0</th>\n",
       "      <td>AL1</td>\n",
       "      <td>ID1,ID3,ID2</td>\n",
       "      <td>North Avenue,,</td>\n",
       "      <td>2922.7,3414.8,3986.5</td>\n",
       "      <td>ABC12345,GHI12345,DEF67890</td>\n",
       "      <td>2023-10-31 21:33:45</td>\n",
       "    </tr>\n",
       "    <tr>\n",
       "      <th>1</th>\n",
       "      <td>AL2</td>\n",
       "      <td>ID1,ID3,ID2</td>\n",
       "      <td>North Avenue,,</td>\n",
       "      <td>5667.4,6159.5,6699.4</td>\n",
       "      <td>ABC12345,GHI12345,DEF67890</td>\n",
       "      <td>2023-10-31 21:33:45</td>\n",
       "    </tr>\n",
       "    <tr>\n",
       "      <th>2</th>\n",
       "      <td>AL3</td>\n",
       "      <td>ID1,ID3,ID2</td>\n",
       "      <td>North Avenue,,</td>\n",
       "      <td>11243.0,11735.1,12275.0</td>\n",
       "      <td>ABC12345,GHI12345,DEF67890</td>\n",
       "      <td>2023-10-31 21:33:45</td>\n",
       "    </tr>\n",
       "    <tr>\n",
       "      <th>3</th>\n",
       "      <td>AL4</td>\n",
       "      <td>ID3,ID1,ID2</td>\n",
       "      <td>,North Avenue,</td>\n",
       "      <td>11864.6,11372.5,12404.5</td>\n",
       "      <td>GHI12345,ABC12345,DEF67890</td>\n",
       "      <td>2023-10-31 21:33:45</td>\n",
       "    </tr>\n",
       "    <tr>\n",
       "      <th>4</th>\n",
       "      <td>AL5</td>\n",
       "      <td>ID3,ID1,ID2</td>\n",
       "      <td>,North Avenue,</td>\n",
       "      <td>11864.6,11372.5,12404.5</td>\n",
       "      <td>GHI12345,ABC12345,DEF67890</td>\n",
       "      <td>2023-10-31 21:33:45</td>\n",
       "    </tr>\n",
       "  </tbody>\n",
       "</table>\n",
       "</div>"
      ],
      "text/plain": [
       "  stop_id jeep_ids_list jeep_locations_list  jeep_arrival_times_list  \\\n",
       "0     AL1   ID1,ID3,ID2      North Avenue,,     2922.7,3414.8,3986.5   \n",
       "1     AL2   ID1,ID3,ID2      North Avenue,,     5667.4,6159.5,6699.4   \n",
       "2     AL3   ID1,ID3,ID2      North Avenue,,  11243.0,11735.1,12275.0   \n",
       "3     AL4   ID3,ID1,ID2      ,North Avenue,  11864.6,11372.5,12404.5   \n",
       "4     AL5   ID3,ID1,ID2      ,North Avenue,  11864.6,11372.5,12404.5   \n",
       "\n",
       "          jeep_plate_num_list       insertion_time  \n",
       "0  ABC12345,GHI12345,DEF67890  2023-10-31 21:33:45  \n",
       "1  ABC12345,GHI12345,DEF67890  2023-10-31 21:33:45  \n",
       "2  ABC12345,GHI12345,DEF67890  2023-10-31 21:33:45  \n",
       "3  GHI12345,ABC12345,DEF67890  2023-10-31 21:33:45  \n",
       "4  GHI12345,ABC12345,DEF67890  2023-10-31 21:33:45  "
      ]
     },
     "execution_count": 4,
     "metadata": {},
     "output_type": "execute_result"
    }
   ],
   "source": [
    "# Display the output as a DataFrame\n",
    "pd.DataFrame.from_dict([dict(item) for item in output])"
   ]
  },
  {
   "cell_type": "code",
   "execution_count": null,
   "metadata": {},
   "outputs": [],
   "source": []
  }
 ],
 "metadata": {
  "kernelspec": {
   "display_name": "jeep_tracking",
   "language": "python",
   "name": "python3"
  },
  "language_info": {
   "codemirror_mode": {
    "name": "ipython",
    "version": 3
   },
   "file_extension": ".py",
   "mimetype": "text/x-python",
   "name": "python",
   "nbconvert_exporter": "python",
   "pygments_lexer": "ipython3",
   "version": "3.10.13"
  },
  "orig_nbformat": 4
 },
 "nbformat": 4,
 "nbformat_minor": 2
}
