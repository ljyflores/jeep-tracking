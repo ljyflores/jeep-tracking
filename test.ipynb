{
 "cells": [
  {
   "cell_type": "code",
   "execution_count": 1,
   "metadata": {},
   "outputs": [],
   "source": [
    "import pandas as pd\n",
    "\n",
    "from datetime import datetime\n",
    "from google.cloud import bigquery\n",
    "from utils import read_json, query_route, add_plate_numbers_to_df, insert_rows_bigquery\n",
    "\n",
    "BQ_API_KEY = open(\"credentials/google_bq_key\", \"r\").readlines()[0]\n",
    "MAPBOX_API_KEY = open(\"credentials/mapbox_key\", \"r\").readlines()[0]\n",
    "\n",
    "client = bigquery.Client(project=\"eco-folder-402813\")\n",
    "\n",
    "# Load in the static dictionaries \n",
    "stop_coords_mapping_dict = read_json(\"data/stop_coords_mapping_dict.json\")\n",
    "jeep_route_mapping_dict = read_json(\"data/jeep_route_mapping_dict.json\")\n",
    "jeep_information_dict = read_json(\"data/jeep_information_dict.json\")\n",
    "route_stops_mapping_dict = read_json(\"data/route_stops_mapping_dict.json\")\n"
   ]
  },
  {
   "cell_type": "code",
   "execution_count": 2,
   "metadata": {},
   "outputs": [],
   "source": []
  },
  {
   "cell_type": "code",
   "execution_count": 3,
   "metadata": {},
   "outputs": [],
   "source": [
    "historical_geocoding_table = pd.DataFrame({\n",
    "    \"names\": [\"A\", \"B\", \"C\"],\n",
    "    \"lng\": [121.5, 121.25, 121.0],\n",
    "    \"lat\": [14.5, 14.25, 14.0]\n",
    "})\n",
    "\n",
    "historical_eta_table = pd.DataFrame({\n",
    "    \"stop_id\": [\"AL1\", \"AL1\", \"AL1\", \"AL2\", \"AL2\"], \n",
    "    \"lng\": [121.98, 121.25, 121.66, 121.23, 121.95], \n",
    "    \"lat\": [14.23, 14.74, 14.63, 14.33, 14.04],\n",
    "    \"time\": [datetime.now()]*5, \n",
    "    \"eta\": [5.52, 7.84, 2.25, 11.54, 4.25]\n",
    "})\n"
   ]
  },
  {
   "cell_type": "code",
   "execution_count": 11,
   "metadata": {},
   "outputs": [
    {
     "name": "stderr",
     "output_type": "stream",
     "text": [
      "/Users/lorenzoflores/Documents/GitHub/jeep-tracking/utils.py:272: FutureWarning: The behavior of DataFrame concatenation with empty or all-NA entries is deprecated. In a future version, this will no longer exclude empty or all-NA columns when determining the result dtypes. To retain the old behavior, exclude the relevant entries before the concat operation.\n",
      "  new_historical_geocoding_table = pd.concat([new_historical_geocoding_table, new_historical_geocoding_rows], ignore_index=True)\n",
      "/Users/lorenzoflores/Documents/GitHub/jeep-tracking/utils.py:273: FutureWarning: The behavior of DataFrame concatenation with empty or all-NA entries is deprecated. In a future version, this will no longer exclude empty or all-NA columns when determining the result dtypes. To retain the old behavior, exclude the relevant entries before the concat operation.\n",
      "  new_historical_eta_table = pd.concat([new_historical_eta_table, new_historical_eta_rows], ignore_index=True)\n"
     ]
    }
   ],
   "source": [
    "use_mapbox = True\n",
    "\n",
    "temp = query_route(\n",
    "    route_name = \"aurora_loop\",\n",
    "    jeep_route_mapping_dict = jeep_route_mapping_dict, \n",
    "    route_stops_mapping_dict = route_stops_mapping_dict, \n",
    "    stop_coords_mapping_dict = stop_coords_mapping_dict, \n",
    "    historical_geocoding_table = historical_geocoding_table,\n",
    "    historical_eta_table = historical_eta_table,\n",
    "    use_mapbox = use_mapbox,\n",
    "    MAPBOX_API_KEY = MAPBOX_API_KEY\n",
    "    )\n",
    "# Retrieve tables and append to historical \n",
    "historical_geocoding_table = temp.pop(\"historical_geocoding_table\")\n",
    "historical_eta_table = temp.pop(\"historical_eta_table\")"
   ]
  },
  {
   "cell_type": "code",
   "execution_count": 12,
   "metadata": {},
   "outputs": [],
   "source": [
    "if use_mapbox:\n",
    "    insert_rows_bigquery(client, \"eco-folder-402813.historical_etas.test\", historical_eta_table, row_ids=None)\n",
    "    insert_rows_bigquery(client, \"eco-folder-402813.historical_locations.test\", historical_geocoding_table, row_ids=None)\n"
   ]
  },
  {
   "cell_type": "code",
   "execution_count": 13,
   "metadata": {},
   "outputs": [],
   "source": [
    "df_temp = pd.DataFrame(temp)\n",
    "df_temp[\"jeep_plate_num_list\"] = add_plate_numbers_to_df(df_temp[\"jeep_ids_list\"], jeep_information_dict)\n",
    "df_temp[\"insertion_time\"] = datetime.now().strftime('%Y-%m-%d %H:%M:%S')\n",
    "\n",
    "for col in ['jeep_ids_list', 'jeep_locations_list', 'jeep_arrival_times_list', 'jeep_plate_num_list']:\n",
    "    df_temp[col] = df_temp[col].apply(lambda lst: \",\".join([str(x) for x in lst]))"
   ]
  },
  {
   "cell_type": "code",
   "execution_count": 18,
   "metadata": {},
   "outputs": [
    {
     "data": {
      "text/plain": [
       "'New rows have been added.'"
      ]
     },
     "execution_count": 18,
     "metadata": {},
     "output_type": "execute_result"
    }
   ],
   "source": [
    "insert_rows_bigquery(client, \"eco-folder-402813.jeep_etas.test\", df_temp, row_ids=None)"
   ]
  },
  {
   "cell_type": "code",
   "execution_count": null,
   "metadata": {},
   "outputs": [],
   "source": []
  }
 ],
 "metadata": {
  "kernelspec": {
   "display_name": "Python 3",
   "language": "python",
   "name": "python3"
  },
  "language_info": {
   "codemirror_mode": {
    "name": "ipython",
    "version": 3
   },
   "file_extension": ".py",
   "mimetype": "text/x-python",
   "name": "python",
   "nbconvert_exporter": "python",
   "pygments_lexer": "ipython3",
   "version": "3.10.13"
  },
  "orig_nbformat": 4
 },
 "nbformat": 4,
 "nbformat_minor": 2
}
