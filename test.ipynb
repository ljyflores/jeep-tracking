{
 "cells": [
  {
   "cell_type": "code",
   "execution_count": 1,
   "metadata": {},
   "outputs": [],
   "source": [
    "import pandas as pd\n",
    "\n",
    "from datetime import datetime\n",
    "from google.cloud import bigquery\n",
    "from utils import read_json, query_route, add_plate_numbers_to_df\n",
    "\n",
    "# GOOGLE_API_KEY = open('google_maps_key', 'r').readlines()[0]\n",
    "# gmaps = googlemaps.Client(key=GOOGLE_API_KEY)\n",
    "\n",
    "BQ_API_KEY = open(\"credentials/google_bq_key\", \"r\").readlines()[0]\n",
    "MAPBOX_API_KEY = open(\"credentials/mapbox_key\", \"r\").readlines()[0]\n",
    "\n"
   ]
  },
  {
   "cell_type": "markdown",
   "metadata": {},
   "source": [
    "# Idea Backlog\n",
    "* If we query mapbox for all routes at the start of the hour, we'll have really bad performance at the start then good performance later on; what if we iteratively query throughout the hour, while using historical data for the rest\n",
    "* Moreover, we shouldn't query ALL jeeps to ALL stops in the route, cuz that will cost lots of money\n",
    "    * What we should do instead is figure out which stop it's closest to, and query that"
   ]
  },
  {
   "cell_type": "markdown",
   "metadata": {},
   "source": [
    "Hint: The database table needs to look like this\n",
    "\n",
    "|StopID|List of Jeeps|List of Arrival Times|List of Jeep Routes|\n",
    "|-----|-----|-----|-----|\n",
    "|AL1|ID1, ID2|5.5, 10|Aurora Loop, Aurora Loop|\n",
    "|AL2|ID3, ID1|6, 20|Aurora Loop, Aurora Loop|\n",
    "|QA1|ID4, ID5|10, 20|Quezon Ave Loop, Quezon Ave Loop|\n",
    "|QA2|ID6, ID4|10, 20|Quezon Ave Loop, Quezon Ave Loop|"
   ]
  },
  {
   "cell_type": "code",
   "execution_count": 2,
   "metadata": {},
   "outputs": [],
   "source": [
    "stop_coords_mapping_dict = read_json(\"data/stop_coords_mapping_dict.json\")\n",
    "jeep_route_mapping_dict = read_json(\"data/jeep_route_mapping_dict.json\")\n",
    "jeep_information_dict = read_json(\"data/jeep_information_dict.json\")\n",
    "route_stops_mapping_dict = read_json(\"data/route_stops_mapping_dict.json\")\n"
   ]
  },
  {
   "cell_type": "code",
   "execution_count": 3,
   "metadata": {},
   "outputs": [],
   "source": [
    "historical_geocoding_table = pd.DataFrame({\n",
    "    \"names\": [\"A\", \"B\", \"C\"],\n",
    "    \"lng\": [121.5, 121.25, 121.0],\n",
    "    \"lat\": [14.5, 14.25, 14.0]\n",
    "})\n",
    "\n",
    "historical_eta_table = pd.DataFrame({\n",
    "    \"stop_id\": [\"AL1\", \"AL1\", \"AL1\", \"AL2\", \"AL2\"], \n",
    "    \"lng\": [121.98, 121.25, 121.66, 121.23, 121.95], \n",
    "    \"lat\": [14.23, 14.74, 14.63, 14.33, 14.04],\n",
    "    \"time\": [datetime.now()]*5, \n",
    "    \"eta\": [5.52, 7.84, 2.25, 11.54, 4.25]\n",
    "})\n"
   ]
  },
  {
   "cell_type": "code",
   "execution_count": 11,
   "metadata": {},
   "outputs": [],
   "source": [
    "client = bigquery.Client(project=\"eco-folder-402813\")\n",
    "\n",
    "QUERY = (\n",
    "    'SELECT * FROM `jeep_etas.test` '\n",
    "    'LIMIT 100')\n",
    "query_job = client.query(QUERY)  # API request\n",
    "rows = query_job.result()  # Waits for query to finish\n"
   ]
  },
  {
   "cell_type": "code",
   "execution_count": 12,
   "metadata": {},
   "outputs": [
    {
     "name": "stdout",
     "output_type": "stream",
     "text": [
      "Row(('AL1', {'list': [{'element': 'ID2'}, {'element': 'ID1'}, {'element': 'ID3'}]}, {'list': [{'element': 'B'}, {'element': 'B'}, {'element': 'B'}]}, {'list': [{'element': 5.509503660332623}, {'element': 5.5255688341529}, {'element': 5.519594094819899}]}, {'list': [{'element': 'DEF67890'}, {'element': 'ABC12345'}, {'element': 'GHI12345'}]}), {'stop_id_list': 0, 'jeep_ids_list': 1, 'jeep_locations_list': 2, 'jeep_arrival_times_list': 3, 'jeep_plate_num_list': 4})\n",
      "Row(('AL2', {'list': [{'element': 'ID2'}, {'element': 'ID3'}, {'element': 'ID1'}]}, {'list': [{'element': 'B'}, {'element': 'B'}, {'element': 'B'}]}, {'list': [{'element': 9.67457419360832}, {'element': 9.703916483216936}, {'element': 9.70946186890662}]}, {'list': [{'element': 'DEF67890'}, {'element': 'GHI12345'}, {'element': 'ABC12345'}]}), {'stop_id_list': 0, 'jeep_ids_list': 1, 'jeep_locations_list': 2, 'jeep_arrival_times_list': 3, 'jeep_plate_num_list': 4})\n",
      "Row(('AL3', {'list': [{'element': 'ID3'}, {'element': 'ID2'}, {'element': 'ID1'}]}, {'list': [{'element': 'B'}, {'element': 'B'}, {'element': 'B'}]}, {'list': [{'element': -1.0}, {'element': -1.0}, {'element': -1.0}]}, {'list': [{'element': 'GHI12345'}, {'element': 'DEF67890'}, {'element': 'ABC12345'}]}), {'stop_id_list': 0, 'jeep_ids_list': 1, 'jeep_locations_list': 2, 'jeep_arrival_times_list': 3, 'jeep_plate_num_list': 4})\n",
      "Row(('AL4', {'list': [{'element': 'ID3'}, {'element': 'ID2'}, {'element': 'ID1'}]}, {'list': [{'element': 'B'}, {'element': 'B'}, {'element': 'B'}]}, {'list': [{'element': -1.0}, {'element': -1.0}, {'element': -1.0}]}, {'list': [{'element': 'GHI12345'}, {'element': 'DEF67890'}, {'element': 'ABC12345'}]}), {'stop_id_list': 0, 'jeep_ids_list': 1, 'jeep_locations_list': 2, 'jeep_arrival_times_list': 3, 'jeep_plate_num_list': 4})\n",
      "Row(('AL5', {'list': [{'element': 'ID3'}, {'element': 'ID2'}, {'element': 'ID1'}]}, {'list': [{'element': 'B'}, {'element': 'B'}, {'element': 'B'}]}, {'list': [{'element': -1.0}, {'element': -1.0}, {'element': -1.0}]}, {'list': [{'element': 'GHI12345'}, {'element': 'DEF67890'}, {'element': 'ABC12345'}]}), {'stop_id_list': 0, 'jeep_ids_list': 1, 'jeep_locations_list': 2, 'jeep_arrival_times_list': 3, 'jeep_plate_num_list': 4})\n"
     ]
    }
   ],
   "source": [
    "for row in rows:\n",
    "    print(row)"
   ]
  },
  {
   "cell_type": "code",
   "execution_count": 4,
   "metadata": {},
   "outputs": [
    {
     "name": "stdout",
     "output_type": "stream",
     "text": [
      "[[121.02612759  14.66907581]\n",
      " [121.04331558  14.6681457 ]\n",
      " [121.03992056  14.6963531 ]]\n",
      "[[121.1234  14.5678]\n",
      " [121.2341  14.6785]\n",
      " [121.3412  14.7856]\n",
      " [121.4123  14.8567]\n",
      " [121.4321  14.8765]]\n"
     ]
    }
   ],
   "source": [
    "temp = query_route(\n",
    "    route_name = \"aurora_loop\",\n",
    "    jeep_route_mapping_dict = jeep_route_mapping_dict, \n",
    "    route_stops_mapping_dict = route_stops_mapping_dict, \n",
    "    stop_coords_mapping_dict = stop_coords_mapping_dict, \n",
    "    historical_geocoding_table = historical_geocoding_table,\n",
    "    historical_eta_table = historical_eta_table,\n",
    "    use_mapbox = False,\n",
    "    MAPBOX_API_KEY = MAPBOX_API_KEY\n",
    "    )\n",
    "historical_geocoding_table = temp.pop(\"historical_geocoding_table\")\n",
    "historical_eta_table = temp.pop(\"historical_eta_table\")"
   ]
  },
  {
   "cell_type": "code",
   "execution_count": null,
   "metadata": {},
   "outputs": [],
   "source": [
    "def update_hist_jeep_locs(table):\n",
    "    pass\n",
    "\n",
    "def update_hist_jeep_etas(table):\n",
    "    pass\n",
    "\n",
    "def update_curr_jeep_etas(table):\n",
    "    pass"
   ]
  },
  {
   "cell_type": "code",
   "execution_count": 18,
   "metadata": {},
   "outputs": [
    {
     "data": {
      "text/html": [
       "<div>\n",
       "<style scoped>\n",
       "    .dataframe tbody tr th:only-of-type {\n",
       "        vertical-align: middle;\n",
       "    }\n",
       "\n",
       "    .dataframe tbody tr th {\n",
       "        vertical-align: top;\n",
       "    }\n",
       "\n",
       "    .dataframe thead th {\n",
       "        text-align: right;\n",
       "    }\n",
       "</style>\n",
       "<table border=\"1\" class=\"dataframe\">\n",
       "  <thead>\n",
       "    <tr style=\"text-align: right;\">\n",
       "      <th></th>\n",
       "      <th>names</th>\n",
       "      <th>lng</th>\n",
       "      <th>lat</th>\n",
       "    </tr>\n",
       "  </thead>\n",
       "  <tbody>\n",
       "    <tr>\n",
       "      <th>0</th>\n",
       "      <td>A</td>\n",
       "      <td>121.50</td>\n",
       "      <td>14.50</td>\n",
       "    </tr>\n",
       "    <tr>\n",
       "      <th>1</th>\n",
       "      <td>B</td>\n",
       "      <td>121.25</td>\n",
       "      <td>14.25</td>\n",
       "    </tr>\n",
       "    <tr>\n",
       "      <th>2</th>\n",
       "      <td>C</td>\n",
       "      <td>121.00</td>\n",
       "      <td>14.00</td>\n",
       "    </tr>\n",
       "  </tbody>\n",
       "</table>\n",
       "</div>"
      ],
      "text/plain": [
       "  names     lng    lat\n",
       "0     A  121.50  14.50\n",
       "1     B  121.25  14.25\n",
       "2     C  121.00  14.00"
      ]
     },
     "execution_count": 18,
     "metadata": {},
     "output_type": "execute_result"
    }
   ],
   "source": [
    "historical_geocoding_table"
   ]
  },
  {
   "cell_type": "code",
   "execution_count": 15,
   "metadata": {},
   "outputs": [
    {
     "data": {
      "text/html": [
       "<div>\n",
       "<style scoped>\n",
       "    .dataframe tbody tr th:only-of-type {\n",
       "        vertical-align: middle;\n",
       "    }\n",
       "\n",
       "    .dataframe tbody tr th {\n",
       "        vertical-align: top;\n",
       "    }\n",
       "\n",
       "    .dataframe thead th {\n",
       "        text-align: right;\n",
       "    }\n",
       "</style>\n",
       "<table border=\"1\" class=\"dataframe\">\n",
       "  <thead>\n",
       "    <tr style=\"text-align: right;\">\n",
       "      <th></th>\n",
       "      <th>stop_id</th>\n",
       "      <th>lng</th>\n",
       "      <th>lat</th>\n",
       "      <th>time</th>\n",
       "      <th>eta</th>\n",
       "    </tr>\n",
       "  </thead>\n",
       "  <tbody>\n",
       "    <tr>\n",
       "      <th>0</th>\n",
       "      <td>AL1</td>\n",
       "      <td>121.98</td>\n",
       "      <td>14.23</td>\n",
       "      <td>2023-10-29 14:33:39.228432</td>\n",
       "      <td>5.52</td>\n",
       "    </tr>\n",
       "    <tr>\n",
       "      <th>1</th>\n",
       "      <td>AL1</td>\n",
       "      <td>121.25</td>\n",
       "      <td>14.74</td>\n",
       "      <td>2023-10-29 14:33:39.228432</td>\n",
       "      <td>7.84</td>\n",
       "    </tr>\n",
       "    <tr>\n",
       "      <th>2</th>\n",
       "      <td>AL1</td>\n",
       "      <td>121.66</td>\n",
       "      <td>14.63</td>\n",
       "      <td>2023-10-29 14:33:39.228432</td>\n",
       "      <td>2.25</td>\n",
       "    </tr>\n",
       "    <tr>\n",
       "      <th>3</th>\n",
       "      <td>AL2</td>\n",
       "      <td>121.23</td>\n",
       "      <td>14.33</td>\n",
       "      <td>2023-10-29 14:33:39.228432</td>\n",
       "      <td>11.54</td>\n",
       "    </tr>\n",
       "    <tr>\n",
       "      <th>4</th>\n",
       "      <td>AL2</td>\n",
       "      <td>121.95</td>\n",
       "      <td>14.04</td>\n",
       "      <td>2023-10-29 14:33:39.228432</td>\n",
       "      <td>4.25</td>\n",
       "    </tr>\n",
       "  </tbody>\n",
       "</table>\n",
       "</div>"
      ],
      "text/plain": [
       "  stop_id     lng    lat                       time    eta\n",
       "0     AL1  121.98  14.23 2023-10-29 14:33:39.228432   5.52\n",
       "1     AL1  121.25  14.74 2023-10-29 14:33:39.228432   7.84\n",
       "2     AL1  121.66  14.63 2023-10-29 14:33:39.228432   2.25\n",
       "3     AL2  121.23  14.33 2023-10-29 14:33:39.228432  11.54\n",
       "4     AL2  121.95  14.04 2023-10-29 14:33:39.228432   4.25"
      ]
     },
     "execution_count": 15,
     "metadata": {},
     "output_type": "execute_result"
    }
   ],
   "source": [
    "historical_eta_table"
   ]
  },
  {
   "cell_type": "code",
   "execution_count": 5,
   "metadata": {},
   "outputs": [],
   "source": [
    "df_temp = pd.DataFrame(temp)"
   ]
  },
  {
   "cell_type": "code",
   "execution_count": 6,
   "metadata": {},
   "outputs": [],
   "source": [
    "df_temp[\"jeep_plate_num_list\"] = add_plate_numbers_to_df(df_temp[\"jeep_ids_list\"], jeep_information_dict)"
   ]
  },
  {
   "cell_type": "code",
   "execution_count": null,
   "metadata": {},
   "outputs": [],
   "source": []
  }
 ],
 "metadata": {
  "kernelspec": {
   "display_name": "Python 3",
   "language": "python",
   "name": "python3"
  },
  "language_info": {
   "codemirror_mode": {
    "name": "ipython",
    "version": 3
   },
   "file_extension": ".py",
   "mimetype": "text/x-python",
   "name": "python",
   "nbconvert_exporter": "python",
   "pygments_lexer": "ipython3",
   "version": "3.10.13"
  },
  "orig_nbformat": 4
 },
 "nbformat": 4,
 "nbformat_minor": 2
}
