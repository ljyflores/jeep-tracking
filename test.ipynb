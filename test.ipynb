{
 "cells": [
  {
   "cell_type": "code",
   "execution_count": 1,
   "metadata": {},
   "outputs": [],
   "source": [
    "from utils import read_json_path, query_route\n",
    "import googlemaps\n",
    "import pandas as pd\n",
    "\n",
    "GOOGLE_API_KEY = open('google_maps_key', 'r').readlines()[0]\n",
    "MAPBOX_API_KEY = open('mapbox_key', 'r').readlines()[0]\n",
    "\n",
    "gmaps = googlemaps.Client(key=GOOGLE_API_KEY)"
   ]
  },
  {
   "cell_type": "markdown",
   "metadata": {},
   "source": [
    "# Idea Backlog\n",
    "* If we query mapbox for all routes at the start of the hour, we'll have really bad performance at the start then good performance later on; what if we iteratively query throughout the hour, while using historical data for the rest\n",
    "* Moreover, we shouldn't query ALL jeeps to ALL stops in the route, cuz that will cost lots of money\n",
    "    * What we should do instead is figure out which stop it's closest to, and query that"
   ]
  },
  {
   "cell_type": "markdown",
   "metadata": {},
   "source": [
    "Hint: The database table needs to look like this\n",
    "\n",
    "|StopID|List of Jeeps|List of Arrival Times|List of Jeep Routes|\n",
    "|-----|-----|-----|-----|\n",
    "|AL1|ID1, ID2|5.5, 10|Aurora Loop, Aurora Loop|\n",
    "|AL2|ID3, ID1|6, 20|Aurora Loop, Aurora Loop|\n",
    "|QA1|ID4, ID5|10, 20|Quezon Ave Loop, Quezon Ave Loop|\n",
    "|QA2|ID6, ID4|10, 20|Quezon Ave Loop, Quezon Ave Loop|"
   ]
  },
  {
   "cell_type": "code",
   "execution_count": 2,
   "metadata": {},
   "outputs": [],
   "source": [
    "trinoma = {\"lat\": 14.653053, \"lng\": 121.034895}\n",
    "lung_center = {\"lat\": 14.647911, \"lng\": 121.046710}\n",
    "sachi = {\"lat\": 14.646185, \"lng\": 121.052834}\n",
    "    \n",
    "stop_coords_mapping_dict = read_json_path(\"data/stop_coords_mapping_dict.json\")\n",
    "jeep_route_mapping_dict = read_json_path(\"data/jeep_route_mapping_dict.json\")\n",
    "route_stops_mapping_dict = read_json_path(\"data/route_stops_mapping_dict.json\")\n"
   ]
  },
  {
   "cell_type": "code",
   "execution_count": 3,
   "metadata": {},
   "outputs": [],
   "source": [
    "route_name = \"aurora_loop\""
   ]
  },
  {
   "cell_type": "code",
   "execution_count": 4,
   "metadata": {},
   "outputs": [
    {
     "name": "stdout",
     "output_type": "stream",
     "text": [
      "[[121.039514, 14.653739], [121.028541, 14.689886], [121.020637, 14.69875]]\n",
      "['', 'Mindanao Avenue', 'King Michael']\n",
      "[array([121.0405753 ,  14.65583662]), array([121.02851216,  14.68985645]), array([121.02047848,  14.69872832])]\n",
      "[[121.039514, 14.653739], [121.028541, 14.689886], [121.020637, 14.69875]]\n",
      "['', 'Mindanao Avenue', 'King Michael']\n",
      "[array([121.0405753 ,  14.65583662]), array([121.02851216,  14.68985645]), array([121.02047848,  14.69872832])]\n",
      "[[121.028541, 14.689886], [121.039514, 14.653739], [121.020637, 14.69875]]\n",
      "['Mindanao Avenue', '', 'King Michael']\n",
      "[array([121.02851216,  14.68985645]), array([121.0405753 ,  14.65583662]), array([121.02047848,  14.69872832])]\n",
      "[[121.028541, 14.689886], [121.020637, 14.69875], [121.039514, 14.653739]]\n",
      "['Mindanao Avenue', 'King Michael', '']\n",
      "[array([121.02851216,  14.68985645]), array([121.02047848,  14.69872832]), array([121.0405753 ,  14.65583662])]\n",
      "[[121.028541, 14.689886], [121.020637, 14.69875], [121.039514, 14.653739]]\n",
      "['Mindanao Avenue', 'King Michael', '']\n",
      "[array([121.02851216,  14.68985645]), array([121.02047848,  14.69872832]), array([121.0405753 ,  14.65583662])]\n"
     ]
    }
   ],
   "source": [
    "temp = query_route(\"aurora_loop\", jeep_route_mapping_dict, route_stops_mapping_dict, stop_coords_mapping_dict, True, MAPBOX_API_KEY)"
   ]
  },
  {
   "cell_type": "code",
   "execution_count": 5,
   "metadata": {},
   "outputs": [
    {
     "data": {
      "text/html": [
       "<div>\n",
       "<style scoped>\n",
       "    .dataframe tbody tr th:only-of-type {\n",
       "        vertical-align: middle;\n",
       "    }\n",
       "\n",
       "    .dataframe tbody tr th {\n",
       "        vertical-align: top;\n",
       "    }\n",
       "\n",
       "    .dataframe thead th {\n",
       "        text-align: right;\n",
       "    }\n",
       "</style>\n",
       "<table border=\"1\" class=\"dataframe\">\n",
       "  <thead>\n",
       "    <tr style=\"text-align: right;\">\n",
       "      <th></th>\n",
       "      <th>stop_id_list</th>\n",
       "      <th>jeep_ids_list</th>\n",
       "      <th>jeep_locations_list</th>\n",
       "      <th>jeep_arrival_times_list</th>\n",
       "    </tr>\n",
       "  </thead>\n",
       "  <tbody>\n",
       "    <tr>\n",
       "      <th>0</th>\n",
       "      <td>AL1</td>\n",
       "      <td>[2, 0, 1]</td>\n",
       "      <td>[, Mindanao Avenue, King Michael]</td>\n",
       "      <td>[3069.8, 3971.7, 4584.4]</td>\n",
       "    </tr>\n",
       "    <tr>\n",
       "      <th>1</th>\n",
       "      <td>AL2</td>\n",
       "      <td>[2, 0, 1]</td>\n",
       "      <td>[, Mindanao Avenue, King Michael]</td>\n",
       "      <td>[5740.8, 6684.6, 7297.3]</td>\n",
       "    </tr>\n",
       "    <tr>\n",
       "      <th>2</th>\n",
       "      <td>AL3</td>\n",
       "      <td>[0, 2, 1]</td>\n",
       "      <td>[Mindanao Avenue, , King Michael]</td>\n",
       "      <td>[12265.3, 11321.5, 12878.0]</td>\n",
       "    </tr>\n",
       "    <tr>\n",
       "      <th>3</th>\n",
       "      <td>AL4</td>\n",
       "      <td>[0, 1, 2]</td>\n",
       "      <td>[Mindanao Avenue, King Michael, ]</td>\n",
       "      <td>[12394.8, 13007.5, 11451.0]</td>\n",
       "    </tr>\n",
       "    <tr>\n",
       "      <th>4</th>\n",
       "      <td>AL5</td>\n",
       "      <td>[0, 1, 2]</td>\n",
       "      <td>[Mindanao Avenue, King Michael, ]</td>\n",
       "      <td>[12394.8, 13007.5, 11451.0]</td>\n",
       "    </tr>\n",
       "  </tbody>\n",
       "</table>\n",
       "</div>"
      ],
      "text/plain": [
       "  stop_id_list jeep_ids_list                jeep_locations_list  \\\n",
       "0          AL1     [2, 0, 1]  [, Mindanao Avenue, King Michael]   \n",
       "1          AL2     [2, 0, 1]  [, Mindanao Avenue, King Michael]   \n",
       "2          AL3     [0, 2, 1]  [Mindanao Avenue, , King Michael]   \n",
       "3          AL4     [0, 1, 2]  [Mindanao Avenue, King Michael, ]   \n",
       "4          AL5     [0, 1, 2]  [Mindanao Avenue, King Michael, ]   \n",
       "\n",
       "       jeep_arrival_times_list  \n",
       "0     [3069.8, 3971.7, 4584.4]  \n",
       "1     [5740.8, 6684.6, 7297.3]  \n",
       "2  [12265.3, 11321.5, 12878.0]  \n",
       "3  [12394.8, 13007.5, 11451.0]  \n",
       "4  [12394.8, 13007.5, 11451.0]  "
      ]
     },
     "execution_count": 5,
     "metadata": {},
     "output_type": "execute_result"
    }
   ],
   "source": [
    "pd.DataFrame(temp)"
   ]
  },
  {
   "cell_type": "code",
   "execution_count": null,
   "metadata": {},
   "outputs": [],
   "source": []
  },
  {
   "cell_type": "code",
   "execution_count": null,
   "metadata": {},
   "outputs": [],
   "source": []
  },
  {
   "cell_type": "code",
   "execution_count": 11,
   "metadata": {},
   "outputs": [],
   "source": [
    "x = np.array([[1,2],[3,4],[4,5]])"
   ]
  },
  {
   "cell_type": "code",
   "execution_count": 13,
   "metadata": {},
   "outputs": [
    {
     "data": {
      "text/plain": [
       "array([[1, 2],\n",
       "       [4, 5]])"
      ]
     },
     "execution_count": 13,
     "metadata": {},
     "output_type": "execute_result"
    }
   ],
   "source": [
    "x[[0,2]]"
   ]
  },
  {
   "cell_type": "code",
   "execution_count": 6,
   "metadata": {},
   "outputs": [
    {
     "data": {
      "text/html": [
       "<div>\n",
       "<style scoped>\n",
       "    .dataframe tbody tr th:only-of-type {\n",
       "        vertical-align: middle;\n",
       "    }\n",
       "\n",
       "    .dataframe tbody tr th {\n",
       "        vertical-align: top;\n",
       "    }\n",
       "\n",
       "    .dataframe thead th {\n",
       "        text-align: right;\n",
       "    }\n",
       "</style>\n",
       "<table border=\"1\" class=\"dataframe\">\n",
       "  <thead>\n",
       "    <tr style=\"text-align: right;\">\n",
       "      <th></th>\n",
       "      <th>stop_id</th>\n",
       "      <th>list_of_jeeps</th>\n",
       "      <th>list_of_times</th>\n",
       "    </tr>\n",
       "  </thead>\n",
       "  <tbody>\n",
       "    <tr>\n",
       "      <th>0</th>\n",
       "      <td>AL1</td>\n",
       "      <td>[ID1, ID2]</td>\n",
       "      <td>[3550.1, 3882.0]</td>\n",
       "    </tr>\n",
       "    <tr>\n",
       "      <th>1</th>\n",
       "      <td>AL2</td>\n",
       "      <td>[ID1, ID2]</td>\n",
       "      <td>[6257.8, 6594.9]</td>\n",
       "    </tr>\n",
       "  </tbody>\n",
       "</table>\n",
       "</div>"
      ],
      "text/plain": [
       "  stop_id list_of_jeeps     list_of_times\n",
       "0     AL1    [ID1, ID2]  [3550.1, 3882.0]\n",
       "1     AL2    [ID1, ID2]  [6257.8, 6594.9]"
      ]
     },
     "execution_count": 6,
     "metadata": {},
     "output_type": "execute_result"
    }
   ],
   "source": [
    "query_time_to_stop(\n",
    "    jeep_ids = [\"ID1\",\"ID2\"], \n",
    "    stop_ids = [\"AL1\", \"AL2\"],\n",
    "    stop_coords_mapping_dict = stop_coords_mapping_dict,\n",
    "    use_mapbox = True,\n",
    "    MAPBOX_API_KEY = MAPBOX_API_KEY\n",
    ")\n",
    "\n",
    "\n",
    "\"list_of_times\": [duration_matrix[:,i] for i in range(duration_matrix.shape[1])] # Gives the time from jeep i to stop j"
   ]
  },
  {
   "cell_type": "code",
   "execution_count": null,
   "metadata": {},
   "outputs": [],
   "source": []
  }
 ],
 "metadata": {
  "kernelspec": {
   "display_name": "Python 3",
   "language": "python",
   "name": "python3"
  },
  "language_info": {
   "codemirror_mode": {
    "name": "ipython",
    "version": 3
   },
   "file_extension": ".py",
   "mimetype": "text/x-python",
   "name": "python",
   "nbconvert_exporter": "python",
   "pygments_lexer": "ipython3",
   "version": "3.8.18"
  },
  "orig_nbformat": 4
 },
 "nbformat": 4,
 "nbformat_minor": 2
}
