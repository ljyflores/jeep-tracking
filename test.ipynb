{
 "cells": [
  {
   "cell_type": "code",
   "execution_count": 1,
   "metadata": {},
   "outputs": [],
   "source": [
    "from utils import read_json_path, query_route_updates\n",
    "import googlemaps\n",
    "\n",
    "GOOGLE_API_KEY = open('google_maps_key', 'r').readlines()[0]\n",
    "MAPBOX_API_KEY = open('mapbox_key', 'r').readlines()[0]\n",
    "\n",
    "gmaps = googlemaps.Client(key=GOOGLE_API_KEY)"
   ]
  },
  {
   "cell_type": "markdown",
   "metadata": {},
   "source": [
    "# Idea Backlog\n",
    "* If we query mapbox for all routes at the start of the hour, we'll have really bad performance at the start then good performance later on; what if we iteratively query throughout the hour, while using historical data for the rest\n",
    "* Moreover, we shouldn't query ALL jeeps to ALL stops in the route, cuz that will cost lots of money\n",
    "    * What we should do instead is figure out which stop it's closest to, and query that"
   ]
  },
  {
   "cell_type": "markdown",
   "metadata": {},
   "source": [
    "Hint: The database table needs to look like this\n",
    "\n",
    "|StopID|List of Jeeps|List of Arrival Times|List of Jeep Routes|\n",
    "|-----|-----|-----|-----|\n",
    "|AL1|ID1, ID2|5.5, 10|Aurora Loop, Aurora Loop|\n",
    "|AL2|ID3, ID1|6, 20|Aurora Loop, Aurora Loop|\n",
    "|QA1|ID4, ID5|10, 20|Quezon Ave Loop, Quezon Ave Loop|\n",
    "|QA2|ID6, ID4|10, 20|Quezon Ave Loop, Quezon Ave Loop|"
   ]
  },
  {
   "cell_type": "code",
   "execution_count": 2,
   "metadata": {},
   "outputs": [],
   "source": [
    "trinoma = {\"lat\": 14.653053, \"lng\": 121.034895}\n",
    "lung_center = {\"lat\": 14.647911, \"lng\": 121.046710}\n",
    "sachi = {\"lat\": 14.646185, \"lng\": 121.052834}\n",
    "    \n",
    "stop_coords_mapping_dict = read_json_path(\"data/stop_coords_mapping_dict.json\")\n",
    "jeep_route_mapping_dict = read_json_path(\"data/jeep_route_mapping_dict.json\")\n",
    "route_stops_mapping_dict = read_json_path(\"data/route_stops_mapping_dict.json\")\n"
   ]
  },
  {
   "cell_type": "code",
   "execution_count": 3,
   "metadata": {},
   "outputs": [],
   "source": [
    "\n",
    "route_name = \"aurora_loop\"\n",
    "\n",
    "jeep_ids = jeep_route_mapping_dict[route_name]\n",
    "stop_ids = route_stops_mapping_dict[route_name]\n"
   ]
  },
  {
   "cell_type": "code",
   "execution_count": 4,
   "metadata": {},
   "outputs": [
    {
     "data": {
      "text/plain": [
       "['ID1', 'ID2', 'ID3']"
      ]
     },
     "execution_count": 4,
     "metadata": {},
     "output_type": "execute_result"
    }
   ],
   "source": [
    "jeep_ids"
   ]
  },
  {
   "cell_type": "code",
   "execution_count": 5,
   "metadata": {},
   "outputs": [
    {
     "data": {
      "text/plain": [
       "['AL1', 'AL2', 'AL3', 'AL4', 'AL5']"
      ]
     },
     "execution_count": 5,
     "metadata": {},
     "output_type": "execute_result"
    }
   ],
   "source": [
    "stop_ids"
   ]
  },
  {
   "cell_type": "code",
   "execution_count": 6,
   "metadata": {},
   "outputs": [
    {
     "data": {
      "text/html": [
       "<div>\n",
       "<style scoped>\n",
       "    .dataframe tbody tr th:only-of-type {\n",
       "        vertical-align: middle;\n",
       "    }\n",
       "\n",
       "    .dataframe tbody tr th {\n",
       "        vertical-align: top;\n",
       "    }\n",
       "\n",
       "    .dataframe thead th {\n",
       "        text-align: right;\n",
       "    }\n",
       "</style>\n",
       "<table border=\"1\" class=\"dataframe\">\n",
       "  <thead>\n",
       "    <tr style=\"text-align: right;\">\n",
       "      <th></th>\n",
       "      <th>stop_id</th>\n",
       "      <th>list_of_jeeps</th>\n",
       "      <th>list_of_times</th>\n",
       "    </tr>\n",
       "  </thead>\n",
       "  <tbody>\n",
       "    <tr>\n",
       "      <th>0</th>\n",
       "      <td>AL1</td>\n",
       "      <td>[ID1, ID2]</td>\n",
       "      <td>[3550.1, 3882.0]</td>\n",
       "    </tr>\n",
       "    <tr>\n",
       "      <th>1</th>\n",
       "      <td>AL2</td>\n",
       "      <td>[ID1, ID2]</td>\n",
       "      <td>[6257.8, 6594.9]</td>\n",
       "    </tr>\n",
       "  </tbody>\n",
       "</table>\n",
       "</div>"
      ],
      "text/plain": [
       "  stop_id list_of_jeeps     list_of_times\n",
       "0     AL1    [ID1, ID2]  [3550.1, 3882.0]\n",
       "1     AL2    [ID1, ID2]  [6257.8, 6594.9]"
      ]
     },
     "execution_count": 6,
     "metadata": {},
     "output_type": "execute_result"
    }
   ],
   "source": [
    "query_route_updates(\n",
    "    jeep_ids = [\"ID1\",\"ID2\"], \n",
    "    stop_ids = [\"AL1\", \"AL2\"],\n",
    "    stop_coords_mapping_dict = stop_coords_mapping_dict,\n",
    "    use_mapbox = True,\n",
    "    MAPBOX_API_KEY = MAPBOX_API_KEY\n",
    ")\n"
   ]
  },
  {
   "cell_type": "code",
   "execution_count": null,
   "metadata": {},
   "outputs": [],
   "source": []
  }
 ],
 "metadata": {
  "kernelspec": {
   "display_name": "Python 3",
   "language": "python",
   "name": "python3"
  },
  "language_info": {
   "codemirror_mode": {
    "name": "ipython",
    "version": 3
   },
   "file_extension": ".py",
   "mimetype": "text/x-python",
   "name": "python",
   "nbconvert_exporter": "python",
   "pygments_lexer": "ipython3",
   "version": "3.8.18"
  },
  "orig_nbformat": 4
 },
 "nbformat": 4,
 "nbformat_minor": 2
}
